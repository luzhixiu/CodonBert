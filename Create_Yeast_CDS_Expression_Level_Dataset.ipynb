{
 "cells": [
  {
   "cell_type": "code",
   "execution_count": 1,
   "id": "0722da52",
   "metadata": {},
   "outputs": [],
   "source": [
    "from IPython.display import Markdown as md"
   ]
  },
  {
   "cell_type": "code",
   "execution_count": 2,
   "id": "bf131033",
   "metadata": {},
   "outputs": [],
   "source": [
    "from datasets import load_dataset\n",
    "import pandas as pd"
   ]
  },
  {
   "cell_type": "code",
   "execution_count": 3,
   "id": "dd2c4e86",
   "metadata": {},
   "outputs": [
    {
     "name": "stdout",
     "output_type": "stream",
     "text": [
      "   Unnamed: 0   GeneName                                           Sequence  \\\n",
      "0        1941  YHR079C-A  ATGAACTATTTGGAAACACAGTTAAATAAAAAGCAAAAACAGATAC...   \n",
      "1        4329    YPL121C  ATGCACAATCAGGAAGAGTGGCTAGACAAGGACAAAACTTTGGTGA...   \n",
      "2        1496    YGL170C  ATGGGAGCTGGCACTCTTTTAAATGGATTAGAAAAGGAAAACTTTC...   \n",
      "\n",
      "         EXP  Label  \n",
      "0  59.599320      0  \n",
      "1  59.995476      0  \n",
      "2  62.303841      0  \n"
     ]
    }
   ],
   "source": [
    "inputFile=\"./S288C_Expression/EmpiricalExp/S288C.datatable_0.3Top_0.3Bot.csv\"\n",
    "df=pd.read_csv(inputFile)\n",
    "print(df[:3])"
   ]
  },
  {
   "cell_type": "markdown",
   "id": "a5ed764e",
   "metadata": {},
   "source": [
    "After loading the data, the next step is to convert the raw coding sequences to text sentences compsed of codon usage ranks."
   ]
  },
  {
   "cell_type": "code",
   "execution_count": 4,
   "id": "385024b7",
   "metadata": {},
   "outputs": [],
   "source": [
    "#Start"
   ]
  },
  {
   "cell_type": "code",
   "execution_count": 5,
   "id": "882ba539",
   "metadata": {},
   "outputs": [],
   "source": [
    "from Bio import SeqIO\n",
    "import sys\n",
    "# insert at 1, 0 is the script path (or '' in REPL)\n",
    "sys.path.insert(1, './CUB_Code')\n",
    "import CodonLibraries as CL\n",
    "\n",
    "seqList=df[\"Sequence\"]\n",
    "sentenceList=[]\n",
    "for seq in seqList:\n",
    "    codonList = CL.loadSequence(seq)\n",
    "    sentence=\"\"\n",
    "    for codon in codonList:\n",
    "        sentence+=codon+\" \"\n",
    "    sentenceList.append(sentence[:-1])#this removes the extra redundant space in the end"
   ]
  },
  {
   "cell_type": "markdown",
   "id": "e399e319",
   "metadata": {},
   "source": [
    "Now we have converted the sequence to codonLists, then concated them into string sentences "
   ]
  },
  {
   "cell_type": "code",
   "execution_count": 6,
   "id": "8d439192",
   "metadata": {},
   "outputs": [
    {
     "name": "stdout",
     "output_type": "stream",
     "text": [
      "['AAC TAT TTG GAA ACA CAG TTA AAT AAA AAG CAA AAA CAG ATA CAG GAA TAC GAA AGT ATG AAT GGC AAC CTG ATA AAG ATG TTT GAG CAA TTG TCT AAA GAA AAG AAA AAT GAT GAG ACA CCA AAA AAA ATT TCC TCG ACG TAC ATT AAA GAG TTA AAG GAG TAC AAC GAA TTG AGA GAT GCC GGT TTA AGG TTG GCC CAA ATA ATT GCT GAT GAA AAG CAA TGC AAA ATT AAG GAT GTT TTT GAA GAG ATC GGT TAT TCA ATG AAG GAC']\n"
     ]
    }
   ],
   "source": [
    "print(sentenceList[:1])"
   ]
  },
  {
   "cell_type": "markdown",
   "id": "5b3a7be4",
   "metadata": {},
   "source": [
    "The next step is to get the genome wide codon usage and generate codon ranks, which will used to replace the codon strings"
   ]
  },
  {
   "cell_type": "code",
   "execution_count": 7,
   "id": "0409f020",
   "metadata": {},
   "outputs": [
    {
     "name": "stdout",
     "output_type": "stream",
     "text": [
      "./Data/s288c.fasta\n",
      "Selected id Type: locus_tag\n",
      "There are 0 entries NOT found out of 5990\n",
      "5990 distinct record in 5990 entries\n",
      "0  sequences are not length of three\n"
     ]
    }
   ],
   "source": [
    "import FastaFileToRankSequences as FFTRS\n",
    "import os\n",
    "\n",
    "inputFile=\"./Data/s288c.fasta\" # this is the genome file used to generate codon ranks, there are other approaches to generatesuch ranks\n",
    "outputFile=\"./s288cRank.txt\"\n",
    "print(inputFile)\n",
    "FFTRS.process(inputFile,outputFile)"
   ]
  },
  {
   "cell_type": "markdown",
   "id": "89bd06af",
   "metadata": {},
   "source": [
    "We have an intermediate file in the name specified by {{outputFile}}, this can also be used for training the model and tokenizer, but we will apply one more operation on this file, composing single codon ranks into words of size k"
   ]
  },
  {
   "cell_type": "code",
   "execution_count": 11,
   "id": "51177421",
   "metadata": {},
   "outputs": [],
   "source": [
    "def convertLineToWords(line,n):\n",
    "    line= line.replace(' ','')\n",
    "    wordList=[]\n",
    "    for i in range(0,len(line)-n,n):\n",
    "        wordList.append(line[i:i+n])\n",
    "    sentence=\" \".join(wordList)\n",
    "    return sentence\n",
    "\n"
   ]
  },
  {
   "cell_type": "code",
   "execution_count": 9,
   "id": "0e4aff8d",
   "metadata": {},
   "outputs": [],
   "source": [
    "f=open(outputFile)\n",
    "k=4 #k specifies the wordsize, aka number of codon ranks in a word, or understood as size of codon windows\n",
    "lines=f.readlines()"
   ]
  },
  {
   "cell_type": "code",
   "execution_count": 12,
   "id": "f67497eb",
   "metadata": {},
   "outputs": [],
   "source": [
    "sentenceList=[]\n",
    "for line in lines:\n",
    "    sentenceList.append(convertLineToWords(line,4))"
   ]
  },
  {
   "cell_type": "code",
   "execution_count": 13,
   "id": "0bcd29bd",
   "metadata": {},
   "outputs": [
    {
     "name": "stdout",
     "output_type": "stream",
     "text": [
      "5990\n"
     ]
    }
   ],
   "source": [
    "print(len(sentenceList))\n",
    "print(len(sentenceList))"
   ]
  },
  {
   "cell_type": "code",
   "execution_count": null,
   "id": "047ead84",
   "metadata": {},
   "outputs": [],
   "source": []
  }
 ],
 "metadata": {
  "kernelspec": {
   "display_name": "Python 3",
   "language": "python",
   "name": "python3"
  },
  "language_info": {
   "codemirror_mode": {
    "name": "ipython",
    "version": 3
   },
   "file_extension": ".py",
   "mimetype": "text/x-python",
   "name": "python",
   "nbconvert_exporter": "python",
   "pygments_lexer": "ipython3",
   "version": "3.6.9"
  }
 },
 "nbformat": 4,
 "nbformat_minor": 5
}
