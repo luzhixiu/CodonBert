{
 "cells": [
  {
   "cell_type": "code",
   "execution_count": 1,
   "id": "37d3ef3a",
   "metadata": {
    "_cell_guid": "b1076dfc-b9ad-4769-8c92-a6c4dae69d19",
    "_uuid": "8f2839f25d086af736a60e9eeb907d3b93b6e0e5",
    "execution": {
     "iopub.execute_input": "2021-11-08T18:17:58.479767Z",
     "iopub.status.busy": "2021-11-08T18:17:58.478224Z",
     "iopub.status.idle": "2021-11-08T18:18:04.640008Z",
     "shell.execute_reply": "2021-11-08T18:18:04.639382Z",
     "shell.execute_reply.started": "2021-11-08T18:10:39.439366Z"
    },
    "papermill": {
     "duration": 6.173159,
     "end_time": "2021-11-08T18:18:04.640178",
     "exception": false,
     "start_time": "2021-11-08T18:17:58.467019",
     "status": "completed"
    },
    "tags": []
   },
   "outputs": [],
   "source": [
    "import torch\n",
    "import pandas as pd\n",
    "import numpy as np\n",
    "from transformers import AutoModelForSequenceClassification, AutoTokenizer"
   ]
  },
  {
   "cell_type": "code",
   "execution_count": 2,
   "id": "cdfe4a01",
   "metadata": {
    "execution": {
     "iopub.execute_input": "2021-11-08T18:18:04.660135Z",
     "iopub.status.busy": "2021-11-08T18:18:04.658454Z",
     "iopub.status.idle": "2021-11-08T18:18:04.660775Z",
     "shell.execute_reply": "2021-11-08T18:18:04.661196Z",
     "shell.execute_reply.started": "2021-11-08T18:10:42.425445Z"
    },
    "papermill": {
     "duration": 0.014975,
     "end_time": "2021-11-08T18:18:04.661328",
     "exception": false,
     "start_time": "2021-11-08T18:18:04.646353",
     "status": "completed"
    },
    "tags": []
   },
   "outputs": [],
   "source": [
    "class Dataset:\n",
    "    def __init__(self, text, tokenizer, max_len):\n",
    "        self.text = text\n",
    "        self.tokenizer = tokenizer\n",
    "        self.max_len = max_len\n",
    "\n",
    "    def __len__(self):\n",
    "        return len(self.text)\n",
    "\n",
    "    def __getitem__(self, item):\n",
    "        text = str(self.text[item])\n",
    "        inputs = self.tokenizer(\n",
    "            text, \n",
    "            max_length=self.max_len, \n",
    "            padding=\"max_length\", \n",
    "            truncation=True\n",
    "        )\n",
    "\n",
    "        ids = inputs[\"input_ids\"]\n",
    "        mask = inputs[\"attention_mask\"]\n",
    "\n",
    "        return {\n",
    "            \"input_ids\": torch.tensor(ids, dtype=torch.long),\n",
    "            \"attention_mask\": torch.tensor(mask, dtype=torch.long),\n",
    "        }"
   ]
  },
  {
   "cell_type": "code",
   "execution_count": 3,
   "id": "5c5ac17f",
   "metadata": {
    "execution": {
     "iopub.execute_input": "2021-11-08T18:18:04.679709Z",
     "iopub.status.busy": "2021-11-08T18:18:04.678891Z",
     "iopub.status.idle": "2021-11-08T18:18:04.681622Z",
     "shell.execute_reply": "2021-11-08T18:18:04.681175Z",
     "shell.execute_reply.started": "2021-11-08T18:16:19.711262Z"
    },
    "papermill": {
     "duration": 0.015135,
     "end_time": "2021-11-08T18:18:04.681724",
     "exception": false,
     "start_time": "2021-11-08T18:18:04.666589",
     "status": "completed"
    },
    "tags": []
   },
   "outputs": [],
   "source": [
    "def generate_predictions(model_path, max_len):\n",
    "    model = AutoModelForSequenceClassification.from_pretrained(model_path)\n",
    "    tokenizer = AutoTokenizer.from_pretrained(model_path)\n",
    "\n",
    "    model.to(\"cuda\")\n",
    "    model.eval()\n",
    "    \n",
    "    df = pd.read_csv(\"../input/jigsaw-toxic-severity-rating/comments_to_score.csv\")\n",
    "    \n",
    "    dataset = Dataset(text=df.text.values, tokenizer=tokenizer, max_len=max_len)\n",
    "    data_loader = torch.utils.data.DataLoader(\n",
    "        dataset, batch_size=32, num_workers=4, pin_memory=True, shuffle=False\n",
    "    )\n",
    "\n",
    "    final_output = []\n",
    "\n",
    "    for b_idx, data in enumerate(data_loader):\n",
    "        with torch.no_grad():\n",
    "            for key, value in data.items():\n",
    "                data[key] = value.to(\"cuda\")\n",
    "            output = model(**data)\n",
    "            output = output.logits.detach().cpu().numpy()[:, 1].ravel().tolist()\n",
    "            final_output.extend(output)\n",
    "    \n",
    "    torch.cuda.empty_cache()\n",
    "    return np.array(final_output)"
   ]
  },
  {
   "cell_type": "code",
   "execution_count": 4,
   "id": "7ccf4aee",
   "metadata": {
    "execution": {
     "iopub.execute_input": "2021-11-08T18:18:04.695288Z",
     "iopub.status.busy": "2021-11-08T18:18:04.694729Z",
     "iopub.status.idle": "2021-11-08T18:18:37.848864Z",
     "shell.execute_reply": "2021-11-08T18:18:37.849337Z",
     "shell.execute_reply.started": "2021-11-08T18:16:20.216321Z"
    },
    "papermill": {
     "duration": 33.162818,
     "end_time": "2021-11-08T18:18:37.849519",
     "exception": false,
     "start_time": "2021-11-08T18:18:04.686701",
     "status": "completed"
    },
    "tags": []
   },
   "outputs": [
    {
     "name": "stderr",
     "output_type": "stream",
     "text": [
      "/opt/conda/lib/python3.7/site-packages/torch/utils/data/dataloader.py:481: UserWarning: This DataLoader will create 4 worker processes in total. Our suggested max number of worker in current system is 2, which is smaller than what this DataLoader is going to create. Please be aware that excessive worker creation might get DataLoader running slow or even freeze, lower the worker number to avoid potential slowness/freeze if necessary.\n",
      "  cpuset_checked))\n"
     ]
    }
   ],
   "source": [
    "preds = generate_predictions(\"../input/autonlp-toxic-1/\", max_len=192)"
   ]
  },
  {
   "cell_type": "code",
   "execution_count": 5,
   "id": "27db89de",
   "metadata": {
    "execution": {
     "iopub.execute_input": "2021-11-08T18:18:37.865986Z",
     "iopub.status.busy": "2021-11-08T18:18:37.865457Z",
     "iopub.status.idle": "2021-11-08T18:18:37.938825Z",
     "shell.execute_reply": "2021-11-08T18:18:37.937960Z",
     "shell.execute_reply.started": "2021-11-08T18:16:52.563365Z"
    },
    "papermill": {
     "duration": 0.0834,
     "end_time": "2021-11-08T18:18:37.938953",
     "exception": false,
     "start_time": "2021-11-08T18:18:37.855553",
     "status": "completed"
    },
    "tags": []
   },
   "outputs": [],
   "source": [
    "sub = pd.read_csv(\"../input/jigsaw-toxic-severity-rating/comments_to_score.csv\")\n",
    "sub[\"score\"] = preds\n",
    "sub = sub[[\"comment_id\", \"score\"]]\n",
    "sub.to_csv(\"submission.csv\", index=False)"
   ]
  },
  {
   "cell_type": "code",
   "execution_count": 6,
   "id": "2d3c2cfe",
   "metadata": {
    "execution": {
     "iopub.execute_input": "2021-11-08T18:18:37.955960Z",
     "iopub.status.busy": "2021-11-08T18:18:37.955127Z",
     "iopub.status.idle": "2021-11-08T18:18:37.965981Z",
     "shell.execute_reply": "2021-11-08T18:18:37.966424Z",
     "shell.execute_reply.started": "2021-11-08T18:16:57.725245Z"
    },
    "papermill": {
     "duration": 0.02212,
     "end_time": "2021-11-08T18:18:37.966556",
     "exception": false,
     "start_time": "2021-11-08T18:18:37.944436",
     "status": "completed"
    },
    "tags": []
   },
   "outputs": [
    {
     "data": {
      "text/html": [
       "<div>\n",
       "<style scoped>\n",
       "    .dataframe tbody tr th:only-of-type {\n",
       "        vertical-align: middle;\n",
       "    }\n",
       "\n",
       "    .dataframe tbody tr th {\n",
       "        vertical-align: top;\n",
       "    }\n",
       "\n",
       "    .dataframe thead th {\n",
       "        text-align: right;\n",
       "    }\n",
       "</style>\n",
       "<table border=\"1\" class=\"dataframe\">\n",
       "  <thead>\n",
       "    <tr style=\"text-align: right;\">\n",
       "      <th></th>\n",
       "      <th>comment_id</th>\n",
       "      <th>score</th>\n",
       "    </tr>\n",
       "  </thead>\n",
       "  <tbody>\n",
       "    <tr>\n",
       "      <th>0</th>\n",
       "      <td>114890</td>\n",
       "      <td>-3.361697</td>\n",
       "    </tr>\n",
       "    <tr>\n",
       "      <th>1</th>\n",
       "      <td>732895</td>\n",
       "      <td>-2.418945</td>\n",
       "    </tr>\n",
       "    <tr>\n",
       "      <th>2</th>\n",
       "      <td>1139051</td>\n",
       "      <td>-1.980471</td>\n",
       "    </tr>\n",
       "    <tr>\n",
       "      <th>3</th>\n",
       "      <td>1434512</td>\n",
       "      <td>-3.791222</td>\n",
       "    </tr>\n",
       "    <tr>\n",
       "      <th>4</th>\n",
       "      <td>2084821</td>\n",
       "      <td>0.711684</td>\n",
       "    </tr>\n",
       "  </tbody>\n",
       "</table>\n",
       "</div>"
      ],
      "text/plain": [
       "   comment_id     score\n",
       "0      114890 -3.361697\n",
       "1      732895 -2.418945\n",
       "2     1139051 -1.980471\n",
       "3     1434512 -3.791222\n",
       "4     2084821  0.711684"
      ]
     },
     "execution_count": 6,
     "metadata": {},
     "output_type": "execute_result"
    }
   ],
   "source": [
    "sub.head()"
   ]
  }
 ],
 "metadata": {
  "kernelspec": {
   "display_name": "Python 3 (ipykernel)",
   "language": "python",
   "name": "python3"
  },
  "language_info": {
   "codemirror_mode": {
    "name": "ipython",
    "version": 3
   },
   "file_extension": ".py",
   "mimetype": "text/x-python",
   "name": "python",
   "nbconvert_exporter": "python",
   "pygments_lexer": "ipython3",
   "version": "3.10.4"
  },
  "papermill": {
   "default_parameters": {},
   "duration": 50.858103,
   "end_time": "2021-11-08T18:18:41.383540",
   "environment_variables": {},
   "exception": null,
   "input_path": "__notebook__.ipynb",
   "output_path": "__notebook__.ipynb",
   "parameters": {},
   "start_time": "2021-11-08T18:17:50.525437",
   "version": "2.3.3"
  }
 },
 "nbformat": 4,
 "nbformat_minor": 5
}
