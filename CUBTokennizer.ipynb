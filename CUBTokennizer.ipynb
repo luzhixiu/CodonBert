{
 "cells": [
  {
   "cell_type": "code",
   "execution_count": 1,
   "id": "a093c744",
   "metadata": {},
   "outputs": [],
   "source": [
    "from datasets import load_dataset\n",
    "import torch\n",
    "\n",
    "trainFile=\"Data/s288c.fasta.train.txt\"\n",
    "testText=\"CAA GTG ACC AGA ATG ATC ACC GGT GTT CAA CAA\""
   ]
  },
  {
   "cell_type": "code",
   "execution_count": 2,
   "id": "c092d370",
   "metadata": {},
   "outputs": [
    {
     "name": "stderr",
     "output_type": "stream",
     "text": [
      "Using custom data configuration default-f555aa9781812fb7\n",
      "Reusing dataset text (/home/lu/.cache/huggingface/datasets/text/default-f555aa9781812fb7/0.0.0/4b86d314f7236db91f0a0f5cda32d4375445e64c5eda2692655dd99c2dac68e8)\n"
     ]
    }
   ],
   "source": [
    "dataset=load_dataset('text', data_files=trainFile,split='train')"
   ]
  },
  {
   "cell_type": "code",
   "execution_count": 3,
   "id": "1fb2ccec",
   "metadata": {},
   "outputs": [],
   "source": [
    "batch_size = 1000\n",
    "all_texts = [dataset[i : i + batch_size][\"text\"] for i in range(0, len(dataset), batch_size)]"
   ]
  },
  {
   "cell_type": "code",
   "execution_count": 4,
   "id": "7775d5e7",
   "metadata": {},
   "outputs": [],
   "source": [
    "def batch_iterator():\n",
    "    for i in range(0, len(dataset), batch_size):\n",
    "        yield dataset[i : i + batch_size][\"text\"]"
   ]
  },
  {
   "cell_type": "code",
   "execution_count": null,
   "id": "b84a2107",
   "metadata": {},
   "outputs": [],
   "source": []
  },
  {
   "cell_type": "code",
   "execution_count": 5,
   "id": "abfe96fb",
   "metadata": {},
   "outputs": [],
   "source": [
    "from transformers import BertTokenizer, BertModel\n",
    "\n",
    "from transformers import AutoTokenizer\n",
    "\n",
    "tokenizer = AutoTokenizer.from_pretrained(\"bert-base-uncased\")\n"
   ]
  },
  {
   "cell_type": "code",
   "execution_count": 6,
   "id": "99ac6909",
   "metadata": {},
   "outputs": [],
   "source": [
    "new_tokenizer = tokenizer.train_new_from_iterator(batch_iterator(), vocab_size=5000)"
   ]
  },
  {
   "cell_type": "code",
   "execution_count": 7,
   "id": "6b274e1b",
   "metadata": {},
   "outputs": [
    {
     "data": {
      "text/plain": [
       "('S288C_TOKENIZER/tokenizer_config.json',\n",
       " 'S288C_TOKENIZER/special_tokens_map.json',\n",
       " 'S288C_TOKENIZER/vocab.txt',\n",
       " 'S288C_TOKENIZER/added_tokens.json',\n",
       " 'S288C_TOKENIZER/tokenizer.json')"
      ]
     },
     "execution_count": 7,
     "metadata": {},
     "output_type": "execute_result"
    }
   ],
   "source": [
    "new_tokenizer.save_pretrained(\"S288C_TOKENIZER\")"
   ]
  },
  {
   "cell_type": "code",
   "execution_count": null,
   "id": "38d498bd",
   "metadata": {},
   "outputs": [],
   "source": []
  }
 ],
 "metadata": {
  "kernelspec": {
   "display_name": "Python 3",
   "language": "python",
   "name": "python3"
  },
  "language_info": {
   "codemirror_mode": {
    "name": "ipython",
    "version": 3
   },
   "file_extension": ".py",
   "mimetype": "text/x-python",
   "name": "python",
   "nbconvert_exporter": "python",
   "pygments_lexer": "ipython3",
   "version": "3.6.9"
  }
 },
 "nbformat": 4,
 "nbformat_minor": 5
}
