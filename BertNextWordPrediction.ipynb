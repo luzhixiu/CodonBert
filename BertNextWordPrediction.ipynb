{
 "cells": [
  {
   "cell_type": "code",
   "execution_count": 1,
   "id": "90e3a1c8",
   "metadata": {},
   "outputs": [],
   "source": [
    "top_k = 10\n",
    "\n",
    "\n",
    "def decode(tokenizer, pred_idx, top_clean):\n",
    "    ignore_tokens = string.punctuation + '[PAD]'\n",
    "    tokens = []\n",
    "    for w in pred_idx:\n",
    "        token = ''.join(tokenizer.decode(w).split())\n",
    "        if token not in ignore_tokens:\n",
    "            tokens.append(token.replace('##', ''))\n",
    "    return '\\n'.join(tokens[:top_clean])\n",
    "\n",
    "\n",
    "def encode(tokenizer, text_sentence, add_special_tokens=True):\n",
    "    text_sentence = text_sentence.replace('<mask>', tokenizer.mask_token)\n",
    "    # if <mask> is the last token, append a \".\" so that models dont predict punctuation.\n",
    "    if tokenizer.mask_token == text_sentence.split()[-1]:\n",
    "        text_sentence += ' .'\n",
    "\n",
    "    input_ids = torch.tensor([tokenizer.encode(text_sentence, add_special_tokens=add_special_tokens)])\n",
    "    mask_idx = torch.where(input_ids == tokenizer.mask_token_id)[1].tolist()[0]\n",
    "    return input_ids, mask_idx"
   ]
  },
  {
   "cell_type": "code",
   "execution_count": 2,
   "id": "6179a48e",
   "metadata": {},
   "outputs": [
    {
     "name": "stderr",
     "output_type": "stream",
     "text": [
      "Some weights of the model checkpoint at bert-base-uncased were not used when initializing BertForMaskedLM: ['cls.seq_relationship.weight', 'cls.seq_relationship.bias']\n",
      "- This IS expected if you are initializing BertForMaskedLM from the checkpoint of a model trained on another task or with another architecture (e.g. initializing a BertForSequenceClassification model from a BertForPreTraining model).\n",
      "- This IS NOT expected if you are initializing BertForMaskedLM from the checkpoint of a model that you expect to be exactly identical (initializing a BertForSequenceClassification model from a BertForSequenceClassification model).\n"
     ]
    }
   ],
   "source": [
    "import torch\n",
    "import string\n",
    "\n",
    "from transformers import BertTokenizer, BertForMaskedLM\n",
    "bert_tokenizer = BertTokenizer.from_pretrained('bert-base-uncased')\n",
    "bert_model = BertForMaskedLM.from_pretrained('bert-base-uncased')"
   ]
  },
  {
   "cell_type": "code",
   "execution_count": 3,
   "id": "bd05b83d",
   "metadata": {},
   "outputs": [
    {
     "name": "stdout",
     "output_type": "stream",
     "text": [
      "Here is a test about\n",
      "\n",
      "you\n",
      "me\n",
      "love\n",
      "it\n",
      "this\n"
     ]
    }
   ],
   "source": [
    "text_sentence=\"Here is a test about\"\n",
    "print(text_sentence)\n",
    "text_sentence+= ' <mask>'\n",
    "top_clean=5\n",
    "input_ids, mask_idx = encode(bert_tokenizer, text_sentence)\n",
    "with torch.no_grad():\n",
    "    predict = bert_model(input_ids)[0]\n",
    "bert = decode(bert_tokenizer, predict[0, mask_idx, :].topk(top_k).indices.tolist(), top_clean)\n",
    "print()\n",
    "print(bert)"
   ]
  },
  {
   "cell_type": "code",
   "execution_count": null,
   "id": "c55b01a1",
   "metadata": {},
   "outputs": [],
   "source": []
  },
  {
   "cell_type": "code",
   "execution_count": 4,
   "id": "93842939",
   "metadata": {},
   "outputs": [],
   "source": [
    "import torch\n",
    "import string\n",
    "from transformers import AutoTokenizer\n",
    "\n",
    "from transformers import BertTokenizer, BertForMaskedLM\n",
    "tokenizer_checkpoint = \"./S288C_TOKENIZER\"\n",
    "tokenizer = AutoTokenizer.from_pretrained(tokenizer_checkpoint,local_files_only=True)\n",
    "bert_model = BertForMaskedLM.from_pretrained('CUBERT').eval()"
   ]
  },
  {
   "cell_type": "code",
   "execution_count": 5,
   "id": "7ec71d25",
   "metadata": {},
   "outputs": [
    {
     "data": {
      "text/plain": [
       "[2, 1, 1, 1, 1, 1, 1, 1, 1, 3]"
      ]
     },
     "execution_count": 5,
     "metadata": {},
     "output_type": "execute_result"
    }
   ],
   "source": [
    "tokenizer.encode(text_sentence, add_special_tokens=True)"
   ]
  },
  {
   "cell_type": "code",
   "execution_count": null,
   "id": "43ea329d",
   "metadata": {},
   "outputs": [],
   "source": []
  },
  {
   "cell_type": "code",
   "execution_count": 6,
   "id": "ce947593",
   "metadata": {},
   "outputs": [
    {
     "name": "stdout",
     "output_type": "stream",
     "text": [
      "[\n",
      "    {\n",
      "        \"score\": 0.47349822521209717,\n",
      "        \"token\": 5,\n",
      "        \"token_str\": \"1\",\n",
      "        \"sequence\": \"4 2 2 1 2 1\"\n",
      "    },\n",
      "    {\n",
      "        \"score\": 0.3058720827102661,\n",
      "        \"token\": 6,\n",
      "        \"token_str\": \"2\",\n",
      "        \"sequence\": \"4 2 2 2 2 1\"\n",
      "    },\n",
      "    {\n",
      "        \"score\": 0.10576262325048447,\n",
      "        \"token\": 7,\n",
      "        \"token_str\": \"3\",\n",
      "        \"sequence\": \"4 2 2 3 2 1\"\n",
      "    },\n",
      "    {\n",
      "        \"score\": 0.06819885969161987,\n",
      "        \"token\": 8,\n",
      "        \"token_str\": \"4\",\n",
      "        \"sequence\": \"4 2 2 4 2 1\"\n",
      "    },\n",
      "    {\n",
      "        \"score\": 0.02411608397960663,\n",
      "        \"token\": 9,\n",
      "        \"token_str\": \"5\",\n",
      "        \"sequence\": \"4 2 2 5 2 1\"\n",
      "    }\n",
      "]\n"
     ]
    }
   ],
   "source": [
    "from transformers import pipeline\n",
    "import json\n",
    "\n",
    "pipe = pipeline(task='fill-mask', model='./CUBERT',tokenizer=\"./S288C_TOKENIZER\")\n",
    "out = pipe(f\"4 2 2 {pipe.tokenizer.mask_token} 2 1\")\n",
    "print(json.dumps(out, indent=4))"
   ]
  },
  {
   "cell_type": "code",
   "execution_count": 4,
   "id": "16f4cb0f",
   "metadata": {},
   "outputs": [
    {
     "data": {
      "text/plain": [
       "[{'score': 0.47349822521209717,\n",
       "  'token': 5,\n",
       "  'token_str': '1',\n",
       "  'sequence': '4 2 2 1 2 1'},\n",
       " {'score': 0.3058720827102661,\n",
       "  'token': 6,\n",
       "  'token_str': '2',\n",
       "  'sequence': '4 2 2 2 2 1'},\n",
       " {'score': 0.10576262325048447,\n",
       "  'token': 7,\n",
       "  'token_str': '3',\n",
       "  'sequence': '4 2 2 3 2 1'},\n",
       " {'score': 0.06819885969161987,\n",
       "  'token': 8,\n",
       "  'token_str': '4',\n",
       "  'sequence': '4 2 2 4 2 1'},\n",
       " {'score': 0.02411608397960663,\n",
       "  'token': 9,\n",
       "  'token_str': '5',\n",
       "  'sequence': '4 2 2 5 2 1'}]"
      ]
     },
     "execution_count": 4,
     "metadata": {},
     "output_type": "execute_result"
    }
   ],
   "source": [
    "from transformers import pipeline\n",
    "\n",
    "classifier = pipeline(task='fill-mask', model='./CUBERT',tokenizer=\"./S288C_TOKENIZER\")\n",
    "classifier(\"4 2 2 [MASK] 2 1\")"
   ]
  },
  {
   "cell_type": "code",
   "execution_count": null,
   "id": "670b4fb3",
   "metadata": {},
   "outputs": [],
   "source": []
  },
  {
   "cell_type": "code",
   "execution_count": null,
   "id": "e2a3399d",
   "metadata": {},
   "outputs": [],
   "source": []
  },
  {
   "cell_type": "code",
   "execution_count": null,
   "id": "0f3c84cf",
   "metadata": {},
   "outputs": [],
   "source": []
  }
 ],
 "metadata": {
  "kernelspec": {
   "display_name": "Python 3",
   "language": "python",
   "name": "python3"
  },
  "language_info": {
   "codemirror_mode": {
    "name": "ipython",
    "version": 3
   },
   "file_extension": ".py",
   "mimetype": "text/x-python",
   "name": "python",
   "nbconvert_exporter": "python",
   "pygments_lexer": "ipython3",
   "version": "3.6.9"
  }
 },
 "nbformat": 4,
 "nbformat_minor": 5
}
