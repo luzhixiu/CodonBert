{
 "cells": [
  {
   "cell_type": "code",
   "execution_count": 1,
   "metadata": {},
   "outputs": [],
   "source": [
    "inputFile=\"./Data/s288c.fasta.rank.txt\""
   ]
  },
  {
   "cell_type": "code",
   "execution_count": 4,
   "metadata": {},
   "outputs": [
    {
     "name": "stderr",
     "output_type": "stream",
     "text": [
      "IOPub data rate exceeded.\n",
      "The notebook server will temporarily stop sending output\n",
      "to the client in order to avoid crashing it.\n",
      "To change this limit, set the config variable\n",
      "`--NotebookApp.iopub_data_rate_limit`.\n",
      "\n",
      "Current values:\n",
      "NotebookApp.iopub_data_rate_limit=1000000.0 (bytes/sec)\n",
      "NotebookApp.rate_limit_window=3.0 (secs)\n",
      "\n"
     ]
    }
   ],
   "source": [
    "f=open(inputFile)\n",
    "lines=f.readlines()"
   ]
  },
  {
   "cell_type": "code",
   "execution_count": 13,
   "metadata": {},
   "outputs": [],
   "source": []
  },
  {
   "cell_type": "code",
   "execution_count": 27,
   "metadata": {},
   "outputs": [
    {
     "name": "stdout",
     "output_type": "stream",
     "text": [
      "3 3 1 1 3 1 3 3 1 1 1 1 1 2 3 3 1 3 1 1 1 2 1 1 3 2 1 4 1 1 1 3 2 3 1 1 3 1 1 2 2 3 1 2 2 1 2 1 3 3 2 1 1 1 3 2 1 3 1 1 1 1 3 1 2 2 2 1 2 2 3 3 1 1 3 1 1 1 1 2 1 4 3 1 1 3 3 1 1 1 1 2 4 5 1 2 2 1 3 3 4 3 1 3 4 2 2 1 3 \n",
      "\n",
      "3311 3133 1111 1233 1311 1211 3214 1113 2311 3112 2312 2121 3321 1132 1311 1131 2221 2233 1131 1112 1431 1331 1112 4512 2133 4313 4221\n"
     ]
    }
   ],
   "source": [
    "#start with fixed size vocabs\n",
    "def convertLineToWords(line,n):\n",
    "    line= line.replace(' ','')\n",
    "    wordList=[]\n",
    "    for i in range(0,len(line)-n,n):\n",
    "        wordList.append(line[i:i+n])\n",
    "    sentence=\" \".join(wordList)\n",
    "    return sentence\n",
    "\n",
    "\n",
    "testline=lines[0]\n",
    "print(testline)\n",
    "print(convertLineToWords(testline,4))\n"
   ]
  },
  {
   "cell_type": "code",
   "execution_count": 28,
   "metadata": {},
   "outputs": [],
   "source": [
    "sentenceList=[]\n",
    "for line in lines:\n",
    "    sentenceList.append(convertLineToWords(line,3))"
   ]
  },
  {
   "cell_type": "code",
   "execution_count": 33,
   "metadata": {},
   "outputs": [],
   "source": [
    "output_file = open(\"s288c_words_4.test.txt\", 'w')\n",
    "\n",
    "for sentence in sentenceList[5000:]:\n",
    "    output_file.write(sentence+'\\n')\n",
    "\n",
    "output_file.close()"
   ]
  },
  {
   "cell_type": "code",
   "execution_count": null,
   "metadata": {},
   "outputs": [],
   "source": []
  }
 ],
 "metadata": {
  "kernelspec": {
   "display_name": "Python 3",
   "language": "python",
   "name": "python3"
  },
  "language_info": {
   "codemirror_mode": {
    "name": "ipython",
    "version": 3
   },
   "file_extension": ".py",
   "mimetype": "text/x-python",
   "name": "python",
   "nbconvert_exporter": "python",
   "pygments_lexer": "ipython3",
   "version": "3.8.10"
  }
 },
 "nbformat": 4,
 "nbformat_minor": 4
}
