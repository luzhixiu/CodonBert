{
 "cells": [
  {
   "cell_type": "code",
   "execution_count": 1,
   "metadata": {},
   "outputs": [
    {
     "name": "stdout",
     "output_type": "stream",
     "text": [
      "{'CGG', 'TTA', 'TTC', 'AAA', 'GTG', 'GTT', 'GCG', 'CCT', 'ACG', 'GTA', 'GGT', 'TGG', 'CTA', 'AGA', 'AAC', 'CAG', 'ATG', 'TAT', 'ACA', 'CGT', 'GCT', 'TAA', 'CCG', 'TAC', 'GCC', 'CCA', 'AAT', 'ACT', 'GCA', 'TTG', 'GAT', 'CTT', 'TCA', 'CGC', 'GTC', 'ACC', 'GGA', 'ATT', 'TCG', 'TCT', 'TGC', 'TTT', 'CTG', 'ATA', 'GGG', 'CAC', 'CGA', 'CTC', 'CAA', 'TGT', 'TCC', 'TAG', 'GAC', 'AAG', 'AGC', 'ATC', 'TGA', 'AGG', 'CAT', 'GAG', 'GGC', 'GAA', 'AGT', 'CCC'}\n"
     ]
    }
   ],
   "source": [
    "codonTable = {\n",
    "'ATA':'I', 'ATC':'I', 'ATT':'I', 'ATG':'M',\n",
    "'ACA':'T', 'ACC':'T', 'ACG':'T', 'ACT':'T',\n",
    "'AAC':'N', 'AAT':'N', 'AAA':'K', 'AAG':'K',\n",
    "'AGC':'S', 'AGT':'S', 'AGA':'R', 'AGG':'R',\n",
    "'CTA':'L', 'CTC':'L', 'CTG':'L', 'CTT':'L',\n",
    "'CCA':'P', 'CCC':'P', 'CCG':'P', 'CCT':'P',\n",
    "'CAC':'H', 'CAT':'H', 'CAA':'Q', 'CAG':'Q',\n",
    "'CGA':'R', 'CGC':'R', 'CGG':'R', 'CGT':'R',\n",
    "'GTA':'V', 'GTC':'V', 'GTG':'V', 'GTT':'V',\n",
    "'GCA':'A', 'GCC':'A', 'GCG':'A', 'GCT':'A',\n",
    "'GAC':'D', 'GAT':'D', 'GAA':'E', 'GAG':'E',\n",
    "'GGA':'G', 'GGC':'G', 'GGG':'G', 'GGT':'G',\n",
    "'TCA':'S', 'TCC':'S', 'TCG':'S', 'TCT':'S',\n",
    "'TTC':'F', 'TTT':'F', 'TTA':'L', 'TTG':'L',\n",
    "'TAC':'Y', 'TAT':'Y', 'TAA':'_', 'TAG':'_',\n",
    "'TGC':'C', 'TGT':'C', 'TGA':'_', 'TGG':'W',\n",
    "}\n",
    "codonSet=set(codonTable.keys())\n",
    "print(codonSet)"
   ]
  },
  {
   "cell_type": "code",
   "execution_count": 7,
   "metadata": {},
   "outputs": [
    {
     "name": "stdout",
     "output_type": "stream",
     "text": [
      "AGT GCA GTG GAT TGT ACA GAA GCG TAA AAA ACG GAC AAT TTG CGT ATG ACA CCC GAG TAA TCC AAT CAC TAG TAA TAA TAG ATG AGG AGG CGT CCT GTA TCC TGC TTC TGC ATT GAA ACA TGT GAC CGG GAG GAG TCA AGT CGG TAC TGT CTT AGA TTT CTA AAG ATT GCT TGG CTT GGC GAC ACA TGG GCC ACA TGC TCG CTT CTA GTT AAT GTA GTA CGA CAG CCA TCG CCT AGT GCG CAG GCC GTG ATC GCG ACT TCA TAA GGG GGT ACA CAA GTA AGA CTG CCC GCC ACA CCT CGG GGC CTA CAG GAC GAA TCG GTA TCT ACC ACA ATA GTT GTG GAC CAG ATT AAA GAT AGA CGT AAC GTC AGT TAC CTG TCC TAT ATA GCG CGT AGG GAC CGA GTT GCT CAA GTT CGT GGC AGC CTT TTG AAC TTT ATT GTA TCC ACG GAT AAT CCT AAA CAC CAT TTA GCC TAA AAG CCG TAA ACA GAC TGG ACC CGA AAA GAA AAC TTG ATT TTT TGA CTT ATT TCA CTC GAC CAT CGC ACT GTA TAC CCA CTC CCT CCG GCA AAT TTT CGT CGT TTC TAA AAC TTT CGG TGT TCG CGA \n"
     ]
    }
   ],
   "source": [
    "import random \n",
    "\n",
    "\n",
    "codonList=tuple(codonSet)\n",
    "def createRandomCodonSequence():\n",
    "    sequence=\"\"\n",
    "    sequenceLength=random.randrange(50, 300)\n",
    "    for i in range(sequenceLength):\n",
    "        sequence+=random.choice(codonList)+\" \"\n",
    "    return sequence\n"
   ]
  },
  {
   "cell_type": "code",
   "execution_count": 11,
   "metadata": {},
   "outputs": [],
   "source": [
    "sentenceList=[]\n",
    "for i in range(5000):\n",
    "    sentenceList.append(createRandomCodonSequence())"
   ]
  },
  {
   "cell_type": "code",
   "execution_count": 12,
   "metadata": {},
   "outputs": [],
   "source": [
    "\n",
    "output_file = open(\"random.train.txt\", 'w')\n",
    "\n",
    "for sentence in sentenceList:\n",
    "    output_file.write(sentence+'\\n')\n",
    "\n",
    "output_file.close()"
   ]
  },
  {
   "cell_type": "code",
   "execution_count": null,
   "metadata": {},
   "outputs": [],
   "source": []
  }
 ],
 "metadata": {
  "kernelspec": {
   "display_name": "Python 3",
   "language": "python",
   "name": "python3"
  },
  "language_info": {
   "codemirror_mode": {
    "name": "ipython",
    "version": 3
   },
   "file_extension": ".py",
   "mimetype": "text/x-python",
   "name": "python",
   "nbconvert_exporter": "python",
   "pygments_lexer": "ipython3",
   "version": "3.8.10"
  }
 },
 "nbformat": 4,
 "nbformat_minor": 4
}
